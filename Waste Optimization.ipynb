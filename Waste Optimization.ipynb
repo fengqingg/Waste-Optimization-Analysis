{
 "cells": [
  {
   "attachments": {},
   "cell_type": "markdown",
   "metadata": {},
   "source": [
    "# Waste Optimization\n",
    "\n",
    "## Problem Setting\n",
    "The city of Trashalot has a big problem with waste treatment. \n",
    "Luckily there is one private company Dumpstar that has an incinerator to burn trash and produce electricity. \n",
    "\n",
    "Everything has been going relatively well, but all of a sudden the waste produced by Trashalot has increased. The owner of Dumpstar, however, is refusing to burn more trash. He says that the yield of the incinerator decreases if too much waste is introduced per month. Moreover, he will have to pay his employees for their overtime and that makes increasing the amount of waste to treat not profitable for his company.\n",
    "\n",
    "The mayor of Trashalot then has an idea: she will lower taxes on workers' overtime to incentivize Dumpstar to burn more. However she quickly realizes that if she lowers the taxes too much, then Dumpstar will start importing trash from abroad to cash in on the state support: she definitely does not want that to happen.\n",
    "\n",
    "How much should the mayor of Trashalot reduce the taxes to make sure that Dumpstar decides to burn all the trash in Trashalot, but not more?"
   ]
  },
  {
   "attachments": {},
   "cell_type": "markdown",
   "metadata": {},
   "source": [
    "## Part 1\n",
    "\n",
    "Assume that the amount of burned waste per month is\n",
    "\\begin{equation}\n",
    "    w\n",
    "\\end{equation}\n",
    "\n",
    "The amount of produced electricity is not linear with the trash burned, since the incinerator loses efficiency if too much waste is introduced. Let us assume that the price of electricity is instead fixed. For that reason the earnings $E$ in dollars of Dumpstar in depenence of the amount of trash burned per month is:\n",
    "\\begin{equation}\n",
    "    E = \\alpha \\arctan (\\beta w )\n",
    "\\end{equation}\n",
    "where $\\alpha$, and $\\beta$ are known parameters.\n",
    "\n",
    "The costs that Dumpstar has are split into fixed and variable costs. Maintaining the infrastructure and paying all fixed time employees costs Dumpstar $F$ dollars per month\n",
    "\\begin{equation}\n",
    "    C_F = \\pi\n",
    "\\end{equation}\n",
    "\n",
    "Then Dumpstar needs to pay its workers an hourly rate, which however increases if they do overtime. This hourly salary for overtime is further increased by a tax:\n",
    "\\begin{equation}\n",
    "    C_V = (\\gamma + T) \\frac{ 2 e^{\\xi (w - w_0)} + 1}{e^{\\xi (w - w_0)} + 1}\n",
    "\\end{equation}\n",
    "where $\\epsilon$, $\\gamma$, $\\xi$ and $w_0$ are known parameters. Instead $T$ is the tax that the mayor of Trashalot can modify.\n",
    "\n",
    "The net profit per month for Dumpstar is therefore\n",
    "\\begin{equation}\n",
    "    N = \\alpha \\arctan (\\beta w ) - \\pi - w (\\gamma + T) \\frac{ 2 e^{\\xi (w - w_0)} + 1}{e^{\\xi (w - w_0)} + 1}\n",
    "\\end{equation}\n",
    "\n",
    "The owner of Dumpstar will choose the amount of waste that his company will burn in order to maximize his profit.\n",
    "\n",
    "What is the tax that the mayor of Trashalot should set, in order to make sure that Dumpstar burns exactly $\\Omega$ tons of trash each month?"
   ]
  },
  {
   "attachments": {},
   "cell_type": "markdown",
   "metadata": {},
   "source": [
    "The parameters are set as below"
   ]
  },
  {
   "cell_type": "code",
   "execution_count": 1,
   "metadata": {},
   "outputs": [
    {
     "data": {
      "image/png": "[encoded data removed]",
      "text/plain": [
       "<Figure size 432x288 with 1 Axes>"
      ]
     },
     "metadata": {
      "needs_background": "light"
     },
     "output_type": "display_data"
    }
   ],
   "source": [
    "import numpy as np\n",
    "import matplotlib.pyplot as plt\n",
    "\n",
    "w = np.linspace(0,100, 100)\n",
    "\n",
    "beta  = 0.05; # parameter in earnings\n",
    "alpha = 2.;   # parameter in earnings\n",
    "pi    = .3;   # fixed costs\n",
    "gamma = .01;  # parameter in variable costs\n",
    "xi    = 0.2;  # parameter in variable costs\n",
    "w0    = 50;   # parameter in variable costs\n",
    "\n",
    "desiredW = 35 # Desired amount of thrash that the mayor wants to be burned\n",
    "\n",
    "plt.plot(w, alpha * np.arctan(beta * w), label = \"Earnings\");\n",
    "plt.plot(w, pi + w * gamma * (2*np.exp(xi * (w-w0))+1)/(np.exp(xi * (w-w0))+1), label = \"Costs\");\n",
    "plt.plot(w, alpha * np.arctan(beta * w) - pi - w * gamma * (2*np.exp(xi * (w-w0))+1)/(np.exp(xi * (w-w0))+1), label = \"Profit\");\n",
    "plt.plot(2*[desiredW], [0.,4]);\n",
    "plt.xlabel('w (ton/day)'); plt.ylabel('y (k$/day)'); plt.legend(); plt.xlim(0,100); plt.ylim(0,4);\n"
   ]
  },
  {
   "cell_type": "code",
   "execution_count": 2,
   "metadata": {},
   "outputs": [
    {
     "name": "stdout",
     "output_type": "stream",
     "text": [
      "The amount of waste to burn per month is 40.162497 when tax set at 0.00\n"
     ]
    }
   ],
   "source": [
    "import numpy as np\n",
    "import matplotlib.pyplot as plt\n",
    "import warnings\n",
    "\n",
    "#suppress warnings\n",
    "warnings.filterwarnings('ignore')\n",
    "\n",
    "def optimiseInterpol(funcToUse, xleft, xright , maxNumberIteration, \n",
    "                   positionToleranceAbsolute, valueToleranceAbsolute = 0.):\n",
    "    \"\"\" Finds the maximum or minimum by using quadratic interpolation  \"\"\"    \n",
    "    \n",
    "    # Construct the array of points at which to evaluate the function\n",
    "    xs = np.array([xleft,(xleft+xright)/2,xright])   \n",
    "    \n",
    "    # evaluates the function at the current points\n",
    "    fs = funcToUse(xs) \n",
    "    \n",
    "    # To prevent the program from breaking, we assign values to these two variables\n",
    "    # as if they are our very first guess of the position and value of the minimum\n",
    "    xmin = (xleft+xright)/2\n",
    "    fmin = fs[1]\n",
    "    \n",
    "    # We do not want the while loop to stop immediately, so we give an intitial value to our errors \n",
    "    # that will ensure that the loop is executed the first time\n",
    "    positionError  = 10 * abs(positionToleranceAbsolute) + 1\n",
    "    valueError     = 10 * abs(valueToleranceAbsolute) + 1\n",
    "\n",
    "    # As we want to keep track of the number of iterations done, we initialise the counter to 0\n",
    "    iteration = 0\n",
    "    \n",
    "    \n",
    "    while (positionError > positionToleranceAbsolute and valueError > valueToleranceAbsolute) \\\n",
    "        and iteration < maxNumberIteration:\n",
    "        # Increment the counter of number of iterations\n",
    "        iteration += 1\n",
    "        \n",
    "        # Since xmin and fmin are going to be overwritten by the new guess, we store the current value\n",
    "        oldx = xmin\n",
    "        oldf = fmin\n",
    "        \n",
    "        \n",
    "        # finds the position of the next guess at the position of the minimum and overwrites the old guess\n",
    "        xmin    = - 0.5 * (xs[2]**2 * (fs[0] - fs[1]) + xs[1]**2 * (fs[2] - fs[0]) + \n",
    "                   xs[0]**2 * (fs[1] - fs[2])) / (xs[2] * (fs[1] - fs[0]) + xs[1] \n",
    "                * (fs[0] - fs[2]) + xs[0] * (fs[2] - fs[1]))\n",
    "        fmin    = funcToUse(xmin)\n",
    "        \n",
    "        # Calculates the improvement in position and value compared to previous iteration\n",
    "        # to be compared with tolerance\n",
    "        positionError = abs(xmin-oldx)\n",
    "        valueError    = abs(fmin-oldf)\n",
    "        \n",
    "        # finds the furthest point to discard\n",
    "        distances = abs(xs-xmin)              # calculates the distance of the old points from new one\n",
    "        indexFurthest = np.argmax(distances)  # find which is the furthest\n",
    "        xs[indexFurthest] = xmin       # substitutes the furthest with the new one\n",
    "        fs[indexFurthest] = fmin       # substitutes the value of f on the furthest with the value on the new one\n",
    "        \n",
    "    return xmin, fmin, iteration\n",
    "\n",
    "def OwnerFunction(tax):\n",
    "    return optimiseInterpol(lambda w: alpha * np.arctan(beta * w) - pi - w * (gamma+tax) * (2*np.exp(xi * (w-w0))+1)/(np.exp(xi * (w-w0))+1), 0., 70, 1000, 0.001)[0]\n",
    "\n",
    "\n",
    "#check if it is working for tax at 0.00\n",
    "print(\"The amount of waste to burn per month is %f when tax set at 0.00\"%(OwnerFunction(0.00)))\n"
   ]
  },
  {
   "cell_type": "code",
   "execution_count": 3,
   "metadata": {},
   "outputs": [
    {
     "name": "stdout",
     "output_type": "stream",
     "text": [
      "The root is at 0.008049 \n"
     ]
    }
   ],
   "source": [
    "# Finding tax to achieve desiredW\n",
    "\n",
    "import numpy as np\n",
    "import matplotlib.pyplot as plt\n",
    "\n",
    "def findRootBisect(funcToUse, leftEdge, rightEdge, maxNumberIteration, \n",
    "                   positionToleranceAbsolute, valueToleranceAbsolute = 0.):\n",
    "    \"\"\" Finds the root of a 1D function with bisection method \"\"\"    \n",
    "    fLeftEdge = funcToUse(leftEdge)\n",
    "    fRightEdge = funcToUse(rightEdge)\n",
    "    middle = (leftEdge + rightEdge)/2.0\n",
    "    fMiddle = funcToUse(middle)\n",
    "    \n",
    "    iteration = 0;\n",
    "    \n",
    "    while (middle-leftEdge > positionToleranceAbsolute and abs(fMiddle) > valueToleranceAbsolute) \\\n",
    "        and iteration < maxNumberIteration:\n",
    "        iteration += 1\n",
    "        if fLeftEdge * fMiddle <= 0:\n",
    "            rightEdge = middle\n",
    "            fRightEdge = fMiddle           \n",
    "        else: \n",
    "            leftEdge = middle\n",
    "            fLeftEdge = fMiddle\n",
    "        middle = (leftEdge + rightEdge)/2.0\n",
    "        fMiddle = funcToUse(middle)\n",
    "        \n",
    "    return middle\n",
    "\n",
    "\n",
    "\n",
    "def MayorFunction(desiredW):\n",
    "    return findRootBisect(lambda x: OwnerFunction(x)-desiredW,0,1,10000, 0.00001, 0.0001)\n",
    "\n",
    "\n",
    "print(\"The root is at %f \" %(MayorFunction(35)))\n"
   ]
  },
  {
   "attachments": {},
   "cell_type": "markdown",
   "metadata": {},
   "source": [
    "## Part 2\n",
    "\n",
    "As the function is very difficult to differentiate, the Newton-Raphson method is not suitable to find the root above. To construct a more efficient root finding method, we want to construct a Newton-Raphson method, where the derivative is approximated instead of being calculated.\n",
    "\n",
    "The derivative of a function is\n",
    "\\begin{equation}\n",
    "    f'(x) = \\lim_{\\delta \\rightarrow 0} \\frac{f(x+\\delta)- f(x)}{\\delta}\n",
    "\\end{equation}\n",
    "\n",
    "That gives an idea on how to approximate the derivative. We can take a small step $\\Delta$ and \n",
    "\\begin{equation}\n",
    "    f'(x) \\approx \\frac{f(x+\\Delta)- f(x)}{\\Delta}\n",
    "\\end{equation}\n"
   ]
  },
  {
   "cell_type": "code",
   "execution_count": 4,
   "metadata": {},
   "outputs": [
    {
     "name": "stdout",
     "output_type": "stream",
     "text": [
      "The root is at 0.008042 and it takes 10 number of iterations\n"
     ]
    }
   ],
   "source": [
    "def discreteGrad(func,pos):\n",
    "    dx = 0.0001\n",
    "    ydiff = func(pos+dx/2) - func(pos-dx/2)\n",
    "    xdiff = dx\n",
    "    grad = (ydiff/xdiff)\n",
    "    return grad\n",
    "\n",
    "def findRootNewtonRaphsonDiscr(funcToUse, stepForDeriv, xPos, maxNumberIteration, \n",
    "                   positionToleranceAbsolute, valueToleranceAbsolute = 0.,*, alpha = 1):\n",
    "    \n",
    "    fxPos = funcToUse(xPos)\n",
    "    fderivxPos = stepForDeriv(funcToUse,xPos)\n",
    "    newPos = xPos - fxPos/fderivxPos\n",
    "    error = abs(newPos - xPos) \n",
    "    iteration = 0;\n",
    "    \n",
    "    while (error > positionToleranceAbsolute and abs(fxPos) > valueToleranceAbsolute) \\\n",
    "        and iteration < maxNumberIteration:\n",
    "        iteration += 1\n",
    "        xPos = newPos\n",
    "        fxPos = funcToUse(xPos)\n",
    "        fderivxPos = stepForDeriv(funcToUse,xPos)\n",
    "        newPos = xPos - alpha * fxPos/fderivxPos\n",
    "        error = abs(newPos - xPos) \n",
    "        \n",
    "    return newPos, iteration\n",
    "\n",
    "print(\"The root is at %f and it takes %d number of iterations\"%findRootNewtonRaphsonDiscr(lambda x: OwnerFunction(x)-desiredW,discreteGrad,0,1000,0.00001,alpha=0.4))\n"
   ]
  },
  {
   "attachments": {},
   "cell_type": "markdown",
   "metadata": {},
   "source": [
    "## Part 3\n",
    "\n",
    "However, the method above is not fool-proof. In some examples, the method might run into errors which we will see in the following example."
   ]
  },
  {
   "cell_type": "code",
   "execution_count": 5,
   "metadata": {},
   "outputs": [
    {
     "data": {
      "text/plain": [
       "(0.15690353241478108, 10)"
      ]
     },
     "execution_count": 5,
     "metadata": {},
     "output_type": "execute_result"
    },
    {
     "data": {
      "image/png": "[encoded data removed]",
      "text/plain": [
       "<Figure size 432x288 with 1 Axes>"
      ]
     },
     "metadata": {
      "needs_background": "light"
     },
     "output_type": "display_data"
    }
   ],
   "source": [
    "tax = np.linspace(0,1,100)\n",
    "w =[]\n",
    "for i in tax:\n",
    "    w.append(OwnerFunction(i))\n",
    "plt.plot(tax, w, label = \"w versus tax\");\n",
    "plt.xlabel('tax'); plt.ylabel('w tons/month)'); plt.legend(); plt.xlim(0,1)\n",
    "\n",
    "findRootNewtonRaphsonDiscr(lambda x: OwnerFunction(x)-desiredW,discreteGrad,0.6,1000,0.00001,alpha=0.4)"
   ]
  },
  {
   "attachments": {},
   "cell_type": "markdown",
   "metadata": {},
   "source": [
    "If the gradient of the function that we are finding varies rapidly, things will start to get weird as the Newton-Raphson keeps overshooting every step, making the method unstable, thus achieving NaN with some input values. \n",
    "\n",
    "To improve this,  we can introduce a variable alpha to slow the method down which follows the following equation \n",
    "\n",
    "$ x_{next} = (1-\\alpha) * x_{old} + \\alpha * \\left( x_{old} - \\dfrac{f(x_{old})}{f'(x_{old})} \\right)$\n",
    "\n",
    "The alpha takes in a range from 0-1 and with a lower 𝛼, the method will be slower but more stable. This method improves the method but it cannot be fixed entirely as alpha has to be tried with an appropriate value\n",
    "\n",
    "Also, this method cannot differentiate more than one solution as seen when the xpos is set at 0.6. The Newton-Raphson method will keep iterating until the gradient is 0, thus it will be stuck at the local solution nearest to the xpos stated."
   ]
  }
 ],
 "metadata": {
  "anaconda-cloud": {},
  "kernelspec": {
   "display_name": "Python 3 (ipykernel)",
   "language": "python",
   "name": "python3"
  },
  "language_info": {
   "codemirror_mode": {
    "name": "ipython",
    "version": 3
   },
   "file_extension": ".py",
   "mimetype": "text/x-python",
   "name": "python",
   "nbconvert_exporter": "python",
   "pygments_lexer": "ipython3",
   "version": "3.8.8"
  }
 },
 "nbformat": 4,
 "nbformat_minor": 1
}
